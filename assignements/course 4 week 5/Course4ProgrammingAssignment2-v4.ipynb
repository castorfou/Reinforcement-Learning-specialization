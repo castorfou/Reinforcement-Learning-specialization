{
 "cells": [
  {
   "cell_type": "markdown",
   "metadata": {
    "deletable": false,
    "editable": false,
    "nbgrader": {
     "cell_type": "markdown",
     "checksum": "355c6ee07b77d9504f86561bbc59d831",
     "grade": false,
     "grade_id": "cell-f96c128874bfc5b3",
     "locked": true,
     "schema_version": 3,
     "solution": false,
     "task": false
    }
   },
   "source": [
    "# Assignment 2 - Implement your agent\n",
    "\n",
    "Welcome to Course 4, Programming Assignment 2! We have learned about reinforcement learning algorithms for prediction and control in previous courses and extended those algorithms to large state spaces using function approximation. One example of this was in assignment 2 of course 3 where we implemented semi-gradient TD for prediction and used a neural network as the function approximator. In this notebook, we will build a reinforcement learning agent for control, again using a neural network for function approximation. This combination of neural network function approximators and reinforcement learning algorithms, often referred to as Deep RL, is an active area of research and has led to many impressive results (e. g., AlphaGo: https://deepmind.com/research/case-studies/alphago-the-story-so-far).\n",
    "\n",
    "**In this assignment, you will:**\n",
    "  1. Extend the neural network code from assignment 2 of course 3 to output action-values instead of state-values.\n",
    "  2. Write up the Adam algorithm for neural network optimization.\n",
    "  3. Understand experience replay buffers.\n",
    "  4. Implement Softmax action-selection.\n",
    "  5. Build an Expected Sarsa agent by putting all the pieces together.\n",
    "  6. Solve Lunar Lander with your agent."
   ]
  },
  {
   "cell_type": "markdown",
   "metadata": {
    "deletable": false,
    "editable": false,
    "nbgrader": {
     "cell_type": "markdown",
     "checksum": "a942b1d80536a6e097a5b7879f8b28d3",
     "grade": false,
     "grade_id": "cell-9524f4b3df469bab",
     "locked": true,
     "schema_version": 3,
     "solution": false,
     "task": false
    }
   },
   "source": [
    "## Packages\n",
    "- [numpy](www.numpy.org) : Fundamental package for scientific computing with Python.\n",
    "- [matplotlib](http://matplotlib.org) : Library for plotting graphs in Python.\n",
    "- [RL-Glue](http://www.jmlr.org/papers/v10/tanner09a.html), BaseEnvironment, BaseAgent : Library and abstract classes to inherit from  for reinforcement learning experiments.\n",
    "- [LunarLanderEnvironment](https://gym.openai.com/envs/LunarLander-v2/) : An RLGlue environment that wraps a LundarLander environment implementation from OpenAI Gym.\n",
    "- [collections.deque](https://docs.python.org/3/library/collections.html#collections.deque): a double-ended queue implementation. We use deque to implement the experience replay buffer.\n",
    "- [copy.deepcopy](https://docs.python.org/3/library/copy.html#copy.deepcopy): As objects are not passed by value in python, we often need to make copies of mutable objects. copy.deepcopy allows us to make a new object with the same contents as another object. (Take a look at this link if you are interested to learn more: https://robertheaton.com/2014/02/09/pythons-pass-by-object-reference-as-explained-by-philip-k-dick/)\n",
    "- [tqdm](https://github.com/tqdm/tqdm) : A package to display progress bar when running experiments\n",
    "- [os](https://docs.python.org/3/library/os.html): Package used to interface with the operating system. Here we use it for creating a results folder when it does not exist.\n",
    "- [shutil](https://docs.python.org/3/library/shutil.html): Package used to operate on files and folders. Here we use it for creating a zip file of the results folder.\n",
    "- plot_script: Used for plotting learning curves using matplotlib."
   ]
  },
  {
   "cell_type": "code",
   "execution_count": 1,
   "metadata": {
    "ExecuteTime": {
     "end_time": "2021-06-17T11:57:05.034862Z",
     "start_time": "2021-06-17T11:57:04.820515Z"
    },
    "deletable": false,
    "editable": false,
    "nbgrader": {
     "cell_type": "code",
     "checksum": "1a16d3a2b4b78bd0c8a054524d667d1c",
     "grade": false,
     "grade_id": "cell-3a093c227c1a8513",
     "locked": true,
     "schema_version": 3,
     "solution": false,
     "task": false
    }
   },
   "outputs": [],
   "source": [
    "# Do not modify this cell!\n",
    "\n",
    "# Import necessary libraries\n",
    "# DO NOT IMPORT OTHER LIBRARIES - This will break the autograder.\n",
    "import numpy as np\n",
    "import matplotlib.pyplot as plt\n",
    "%matplotlib inline\n",
    "\n",
    "from rl_glue import RLGlue\n",
    "from environment import BaseEnvironment\n",
    "from lunar_lander import LunarLanderEnvironment\n",
    "from agent import BaseAgent\n",
    "from collections import deque\n",
    "from copy import deepcopy\n",
    "from tqdm import tqdm\n",
    "import os \n",
    "import shutil\n",
    "from plot_script import plot_result"
   ]
  },
  {
   "cell_type": "markdown",
   "metadata": {
    "deletable": false,
    "editable": false,
    "nbgrader": {
     "cell_type": "markdown",
     "checksum": "833da49e040139194c4c5e7c68b23bee",
     "grade": false,
     "grade_id": "cell-c1f6c6471017fd99",
     "locked": true,
     "schema_version": 3,
     "solution": false,
     "task": false
    }
   },
   "source": [
    "## Section 1: Action-Value Network\n",
    "This section includes the function approximator that we use in our agent, a neural network. In Course 3 Assignment 2, we used a neural network as the function approximator for a policy evaluation problem. In this assignment, we will use a neural network for approximating the action-value function in a control problem. The main difference between approximating a state-value function and an action-value function using a neural network is that in the former the output layer only includes one unit whereas in the latter the output layer includes as many units as the number of actions. \n",
    "\n",
    "In the cell below, you will specify the architecture of the action-value neural network. More specifically, you will specify `self.layer_sizes` in the `__init__()` function. \n",
    "\n",
    "We have already provided `get_action_values()` and `get_TD_update()` methods. The former computes the action-value function by doing a forward pass and the latter computes the gradient of the action-value function with respect to the weights times the TD error. These `get_action_values()` and `get_TD_update()` methods are similar to the `get_value()` and `get_gradient()` methods that you implemented in Course 3 Assignment 2. The main difference is that in this notebook, they are designed to be applied to batches of states instead of one state. You will later use these functions for implementing the agent."
   ]
  },
  {
   "cell_type": "code",
   "execution_count": 2,
   "metadata": {
    "ExecuteTime": {
     "end_time": "2021-06-17T11:57:05.046092Z",
     "start_time": "2021-06-17T11:57:05.035863Z"
    },
    "nbgrader": {
     "cell_type": "code",
     "checksum": "d10feeabf000214a0f53c5dfc5812437",
     "grade": false,
     "grade_id": "cell-e6d82e74c686dbf5",
     "locked": false,
     "schema_version": 3,
     "solution": true,
     "task": false
    }
   },
   "outputs": [],
   "source": [
    "# -----------\n",
    "# Graded Cell\n",
    "# -----------\n",
    "\n",
    "# Work Required: Yes. Fill in the code for layer_sizes in __init__ (~1 Line). \n",
    "# Also go through the rest of the code to ensure your understanding is correct.\n",
    "class ActionValueNetwork:\n",
    "    # Work Required: Yes. Fill in the layer_sizes member variable (~1 Line).\n",
    "    def __init__(self, network_config):\n",
    "        self.state_dim = network_config.get(\"state_dim\")\n",
    "        self.num_hidden_units = network_config.get(\"num_hidden_units\")\n",
    "        self.num_actions = network_config.get(\"num_actions\")\n",
    "        \n",
    "        self.rand_generator = np.random.RandomState(network_config.get(\"seed\"))\n",
    "        \n",
    "        # Specify self.layer_sizes which shows the number of nodes in each layer\n",
    "        # your code here\n",
    "        self.layer_sizes = [self.state_dim, self.num_hidden_units, self.num_actions]\n",
    "        \n",
    "        \n",
    "        # Initialize the weights of the neural network\n",
    "        # self.weights is an array of dictionaries with each dictionary corresponding to \n",
    "        # the weights from one layer to the next. Each dictionary includes W and b\n",
    "        self.weights = [dict() for i in range(0, len(self.layer_sizes) - 1)]\n",
    "        for i in range(0, len(self.layer_sizes) - 1):\n",
    "            self.weights[i]['W'] = self.init_saxe(self.layer_sizes[i], self.layer_sizes[i + 1])\n",
    "            self.weights[i]['b'] = np.zeros((1, self.layer_sizes[i + 1]))\n",
    "    \n",
    "    # Work Required: No.\n",
    "    def get_action_values(self, s):\n",
    "        \"\"\"\n",
    "        Args:\n",
    "            s (Numpy array): The state.\n",
    "        Returns:\n",
    "            The action-values (Numpy array) calculated using the network's weights.\n",
    "        \"\"\"\n",
    "        \n",
    "        W0, b0 = self.weights[0]['W'], self.weights[0]['b']\n",
    "        psi = np.dot(s, W0) + b0\n",
    "        x = np.maximum(psi, 0)\n",
    "        \n",
    "        W1, b1 = self.weights[1]['W'], self.weights[1]['b']\n",
    "        q_vals = np.dot(x, W1) + b1\n",
    "\n",
    "        return q_vals\n",
    "    \n",
    "    # Work Required: No.\n",
    "    def get_TD_update(self, s, delta_mat):\n",
    "        \"\"\"\n",
    "        Args:\n",
    "            s (Numpy array): The state.\n",
    "            delta_mat (Numpy array): A 2D array of shape (batch_size, num_actions). Each row of delta_mat  \n",
    "            correspond to one state in the batch. Each row has only one non-zero element \n",
    "            which is the TD-error corresponding to the action taken.\n",
    "        Returns:\n",
    "            The TD update (Array of dictionaries with gradient times TD errors) for the network's weights\n",
    "        \"\"\"\n",
    "\n",
    "        W0, b0 = self.weights[0]['W'], self.weights[0]['b']\n",
    "        W1, b1 = self.weights[1]['W'], self.weights[1]['b']\n",
    "        \n",
    "        psi = np.dot(s, W0) + b0\n",
    "        x = np.maximum(psi, 0)\n",
    "        dx = (psi > 0).astype(float)\n",
    "\n",
    "        # td_update has the same structure as self.weights, that is an array of dictionaries.\n",
    "        # td_update[0][\"W\"], td_update[0][\"b\"], td_update[1][\"W\"], and td_update[1][\"b\"] have the same shape as \n",
    "        # self.weights[0][\"W\"], self.weights[0][\"b\"], self.weights[1][\"W\"], and self.weights[1][\"b\"] respectively\n",
    "        td_update = [dict() for i in range(len(self.weights))]\n",
    "         \n",
    "        v = delta_mat\n",
    "        td_update[1]['W'] = np.dot(x.T, v) * 1. / s.shape[0]\n",
    "        td_update[1]['b'] = np.sum(v, axis=0, keepdims=True) * 1. / s.shape[0]\n",
    "        \n",
    "        v = np.dot(v, W1.T) * dx\n",
    "        td_update[0]['W'] = np.dot(s.T, v) * 1. / s.shape[0]\n",
    "        td_update[0]['b'] = np.sum(v, axis=0, keepdims=True) * 1. / s.shape[0]\n",
    "                \n",
    "        return td_update\n",
    "    \n",
    "    # Work Required: No. You may wish to read the relevant paper for more information on this weight initialization\n",
    "    # (Exact solutions to the nonlinear dynamics of learning in deep linear neural networks by Saxe, A et al., 2013)\n",
    "    def init_saxe(self, rows, cols):\n",
    "        \"\"\"\n",
    "        Args:\n",
    "            rows (int): number of input units for layer.\n",
    "            cols (int): number of output units for layer.\n",
    "        Returns:\n",
    "            NumPy Array consisting of weights for the layer based on the initialization in Saxe et al.\n",
    "        \"\"\"\n",
    "        tensor = self.rand_generator.normal(0, 1, (rows, cols))\n",
    "        if rows < cols:\n",
    "            tensor = tensor.T\n",
    "        tensor, r = np.linalg.qr(tensor)\n",
    "        d = np.diag(r, 0)\n",
    "        ph = np.sign(d)\n",
    "        tensor *= ph\n",
    "\n",
    "        if rows < cols:\n",
    "            tensor = tensor.T\n",
    "        return tensor\n",
    "    \n",
    "    # Work Required: No.\n",
    "    def get_weights(self):\n",
    "        \"\"\"\n",
    "        Returns: \n",
    "            A copy of the current weights of this network.\n",
    "        \"\"\"\n",
    "        return deepcopy(self.weights)\n",
    "    \n",
    "    # Work Required: No.\n",
    "    def set_weights(self, weights):\n",
    "        \"\"\"\n",
    "        Args: \n",
    "            weights (list of dictionaries): Consists of weights that this network will set as its own weights.\n",
    "        \"\"\"\n",
    "        self.weights = deepcopy(weights)"
   ]
  },
  {
   "cell_type": "markdown",
   "metadata": {
    "deletable": false,
    "editable": false,
    "nbgrader": {
     "cell_type": "markdown",
     "checksum": "e56b7c14735e136a6aa4bfb968f48013",
     "grade": false,
     "grade_id": "cell-09cdc118d2f5951c",
     "locked": true,
     "schema_version": 3,
     "solution": false,
     "task": false
    }
   },
   "source": [
    "Run the cell below to test your implementation of the `__init__()` function for ActionValueNetwork:"
   ]
  },
  {
   "cell_type": "code",
   "execution_count": 3,
   "metadata": {
    "ExecuteTime": {
     "end_time": "2021-06-17T11:57:05.077589Z",
     "start_time": "2021-06-17T11:57:05.047253Z"
    }
   },
   "outputs": [
    {
     "name": "stdout",
     "output_type": "stream",
     "text": [
      "layer_sizes: [5, 20, 3]\n"
     ]
    }
   ],
   "source": [
    "# --------------\n",
    "# Debugging Cell\n",
    "# --------------\n",
    "# Feel free to make any changes to this cell to debug your code\n",
    "\n",
    "network_config = {\n",
    "    \"state_dim\": 5,\n",
    "    \"num_hidden_units\": 20,\n",
    "    \"num_actions\": 3\n",
    "}\n",
    "\n",
    "test_network = ActionValueNetwork(network_config)\n",
    "print(\"layer_sizes:\", test_network.layer_sizes)\n",
    "assert(np.allclose(test_network.layer_sizes, np.array([5, 20, 3])))"
   ]
  },
  {
   "cell_type": "code",
   "execution_count": 4,
   "metadata": {
    "ExecuteTime": {
     "end_time": "2021-06-17T11:57:05.626839Z",
     "start_time": "2021-06-17T11:57:05.078652Z"
    },
    "deletable": false,
    "editable": false,
    "nbgrader": {
     "cell_type": "code",
     "checksum": "60e5d798e80eba541ad2862a00d1571f",
     "grade": true,
     "grade_id": "cell-49a0cb79ea0e45ea",
     "locked": true,
     "points": 5,
     "schema_version": 3,
     "solution": false,
     "task": false
    }
   },
   "outputs": [],
   "source": [
    "# -----------\n",
    "# Tested Cell\n",
    "# -----------\n",
    "# The contents of the cell will be tested by the autograder.\n",
    "# If they do not pass here, they will not pass there.\n",
    "\n",
    "rand_generator = np.random.RandomState(0)\n",
    "for _ in range(1000):\n",
    "    network_config = {\n",
    "        \"state_dim\": rand_generator.randint(2, 10),\n",
    "        \"num_hidden_units\": rand_generator.randint(2, 1024),\n",
    "        \"num_actions\": rand_generator.randint(2, 10)\n",
    "    }\n",
    "\n",
    "    test_network = ActionValueNetwork(network_config)\n",
    "\n",
    "    assert(np.allclose(test_network.layer_sizes, np.array([network_config[\"state_dim\"], \n",
    "                                                           network_config[\"num_hidden_units\"], \n",
    "                                                           network_config[\"num_actions\"]])))"
   ]
  },
  {
   "cell_type": "markdown",
   "metadata": {
    "deletable": false,
    "editable": false,
    "nbgrader": {
     "cell_type": "markdown",
     "checksum": "43dd3d66aa92d0ba9b560bac155dbe14",
     "grade": false,
     "grade_id": "cell-169bc96641d22305",
     "locked": true,
     "schema_version": 3,
     "solution": false,
     "task": false
    }
   },
   "source": [
    "**Expected output:** (assuming no changes to the debugging cell)\n",
    "\n",
    "    layer_sizes: [ 5 20  3]"
   ]
  },
  {
   "cell_type": "markdown",
   "metadata": {
    "deletable": false,
    "editable": false,
    "nbgrader": {
     "cell_type": "markdown",
     "checksum": "567638b2dd6adb9971de931d9992b4e1",
     "grade": false,
     "grade_id": "cell-9020651e057104f0",
     "locked": true,
     "schema_version": 3,
     "solution": false,
     "task": false
    }
   },
   "source": [
    "## Section 2: Adam Optimizer\n",
    "\n",
    "In this assignment, you will use the Adam algorithm for updating the weights of your action-value network. As you may remember from Course 3 Assignment 2, the Adam algorithm is a more advanced variant of stochastic gradient descent (SGD). The Adam algorithm improves the SGD update with two concepts: adaptive vector stepsizes and momentum. It keeps running estimates of the mean and second moment of the updates, denoted by $\\mathbf{m}$ and $\\mathbf{v}$ respectively:\n",
    "$$\\mathbf{m_t} = \\beta_m \\mathbf{m_{t-1}} + (1 - \\beta_m)g_t \\\\\n",
    "\\mathbf{v_t} = \\beta_v \\mathbf{v_{t-1}} + (1 - \\beta_v)g^2_t\n",
    "$$\n",
    "\n",
    "Here, $\\beta_m$ and $\\beta_v$ are fixed parameters controlling the linear combinations above and $g_t$ is the update at time $t$ (generally the gradients, but here the TD error times the gradients).\n",
    "\n",
    "Given that $\\mathbf{m}$ and $\\mathbf{v}$ are initialized to zero, they are biased toward zero. To get unbiased estimates of the mean and second moment, Adam defines $\\mathbf{\\hat{m}}$ and $\\mathbf{\\hat{v}}$ as:\n",
    "$$ \\mathbf{\\hat{m}_t} = \\frac{\\mathbf{m_t}}{1 - \\beta_m^t} \\\\\n",
    "\\mathbf{\\hat{v}_t} = \\frac{\\mathbf{v_t}}{1 - \\beta_v^t}\n",
    "$$\n",
    "\n",
    "The weights are then updated as follows:\n",
    "$$ \\mathbf{w_t} = \\mathbf{w_{t-1}} + \\frac{\\alpha}{\\sqrt{\\mathbf{\\hat{v}_t}}+\\epsilon} \\mathbf{\\hat{m}_t}\n",
    "$$\n",
    "\n",
    "Here, $\\alpha$ is the step size parameter and $\\epsilon$ is another small parameter to keep the denominator from being zero.\n",
    "\n",
    "In the cell below, you will implement the `__init__()` and `update_weights()` methods for the Adam algorithm. In `__init__()`, you will initialize `self.m` and `self.v`. In `update_weights()`, you will compute new weights given the input weights and an update $g$ (here `td_errors_times_gradients`) according to the equations above."
   ]
  },
  {
   "cell_type": "code",
   "execution_count": 5,
   "metadata": {
    "ExecuteTime": {
     "end_time": "2021-06-17T11:57:05.635571Z",
     "start_time": "2021-06-17T11:57:05.627765Z"
    },
    "nbgrader": {
     "cell_type": "code",
     "checksum": "798d4618ba32342f63eb237947151a4a",
     "grade": false,
     "grade_id": "cell-585fd403a17cf660",
     "locked": false,
     "schema_version": 3,
     "solution": true,
     "task": false
    }
   },
   "outputs": [],
   "source": [
    "### Work Required: Yes. Fill in code in __init__ and update_weights (~9-11 Lines).\n",
    "class Adam():\n",
    "    # Work Required: Yes. Fill in the initialization for self.m and self.v (~4 Lines).\n",
    "    def __init__(self, layer_sizes, \n",
    "                 optimizer_info):\n",
    "        self.layer_sizes = layer_sizes\n",
    "\n",
    "        # Specify Adam algorithm's hyper parameters\n",
    "        self.step_size = optimizer_info.get(\"step_size\")\n",
    "        self.beta_m = optimizer_info.get(\"beta_m\")\n",
    "        self.beta_v = optimizer_info.get(\"beta_v\")\n",
    "        self.epsilon = optimizer_info.get(\"epsilon\")\n",
    "        \n",
    "        # Initialize Adam algorithm's m and v\n",
    "        self.m = [dict() for i in range(1, len(self.layer_sizes))]\n",
    "        self.v = [dict() for i in range(1, len(self.layer_sizes))]\n",
    "        \n",
    "        for i in range(0, len(self.layer_sizes) - 1):\n",
    "            # Hint: The initialization for m and v should look very much like the initializations of the weights\n",
    "            # except for the fact that initialization here is to zeroes (see description above.)\n",
    "            # Replace the None in each following line\n",
    "            \n",
    "            self.m[i][\"W\"] = None\n",
    "            self.m[i][\"b\"] = None\n",
    "            self.v[i][\"W\"] = None\n",
    "            self.v[i][\"b\"] = None\n",
    "            \n",
    "            # your code here\n",
    "            self.m[i][\"W\"] = np.zeros((self.layer_sizes[i], self.layer_sizes[i+1]))\n",
    "            self.m[i][\"b\"] = np.zeros((1, self.layer_sizes[i+1]))\n",
    "            self.v[i][\"W\"] = np.zeros((self.layer_sizes[i], self.layer_sizes[i+1]))\n",
    "            self.v[i][\"b\"] = np.zeros((1, self.layer_sizes[i+1]))\n",
    "            \n",
    "            \n",
    "        # Notice that to calculate m_hat and v_hat, we use powers of beta_m and beta_v to \n",
    "        # the time step t. We can calculate these powers using an incremental product. At initialization then, \n",
    "        # beta_m_product and beta_v_product should be ...? (Note that timesteps start at 1 and if we were to \n",
    "        # start from 0, the denominator would be 0.)\n",
    "        self.beta_m_product = self.beta_m\n",
    "        self.beta_v_product = self.beta_v\n",
    "    \n",
    "    # Work Required: Yes. Fill in the weight updates (~5-7 lines).\n",
    "    def update_weights(self, weights, td_errors_times_gradients):\n",
    "        \"\"\"\n",
    "        Args:\n",
    "            weights (Array of dictionaries): The weights of the neural network.\n",
    "            td_errors_times_gradients (Array of dictionaries): The gradient of the \n",
    "            action-values with respect to the network's weights times the TD-error\n",
    "        Returns:\n",
    "            The updated weights (Array of dictionaries).\n",
    "        \"\"\"\n",
    "        for i in range(len(weights)):\n",
    "            for param in weights[i].keys():\n",
    "                # Hint: Follow the equations above. First, you should update m and v and then compute \n",
    "                # m_hat and v_hat. Finally, compute how much the weights should be incremented by.\n",
    "                # self.m[i][param] = None\n",
    "                # self.v[i][param] = None\n",
    "                # m_hat = None\n",
    "                # v_hat = None\n",
    "                weight_update = None\n",
    "                \n",
    "                # your code here\n",
    "                self.m[i][param] = self.beta_m * self.m[i][param] + ( 1 - self.beta_m ) * td_errors_times_gradients[i][param]\n",
    "                self.v[i][param] = self.beta_v * self.v[i][param] + ( 1 - self.beta_v ) * np.square(td_errors_times_gradients[i][param])\n",
    "                m_hat = self.m[i][param] / ( 1 - self.beta_m_product )\n",
    "                v_hat = self.v[i][param] / ( 1 - self.beta_v_product )\n",
    "                weight_update = self.step_size * m_hat / ( np.sqrt(v_hat) +self.epsilon )\n",
    "                \n",
    "                \n",
    "                weights[i][param] = weights[i][param] + weight_update\n",
    "        # Notice that to calculate m_hat and v_hat, we use powers of beta_m and beta_v to \n",
    "        ### update self.beta_m_product and self.beta_v_product\n",
    "        self.beta_m_product *= self.beta_m\n",
    "        self.beta_v_product *= self.beta_v\n",
    "        \n",
    "        return weights"
   ]
  },
  {
   "cell_type": "markdown",
   "metadata": {
    "deletable": false,
    "editable": false,
    "nbgrader": {
     "cell_type": "markdown",
     "checksum": "e64f7418759c1b30b0ff0544f21d4ad0",
     "grade": false,
     "grade_id": "cell-779e4e90ee7ae5b8",
     "locked": true,
     "schema_version": 3,
     "solution": false,
     "task": false
    }
   },
   "source": [
    "Run the following code to test your implementation of the `__init__()` function:"
   ]
  },
  {
   "cell_type": "code",
   "execution_count": 6,
   "metadata": {
    "ExecuteTime": {
     "end_time": "2021-06-17T11:57:05.650448Z",
     "start_time": "2021-06-17T11:57:05.636676Z"
    }
   },
   "outputs": [
    {
     "name": "stdout",
     "output_type": "stream",
     "text": [
      "m[0][\"W\"] shape: (5, 2)\n",
      "m[0][\"b\"] shape: (1, 2)\n",
      "m[1][\"W\"] shape: (2, 3)\n",
      "m[1][\"b\"] shape: (1, 3) \n",
      "\n",
      "v[0][\"W\"] shape: (5, 2)\n",
      "v[0][\"b\"] shape: (1, 2)\n",
      "v[1][\"W\"] shape: (2, 3)\n",
      "v[1][\"b\"] shape: (1, 3) \n",
      "\n"
     ]
    }
   ],
   "source": [
    "# --------------\n",
    "# Debugging Cell\n",
    "# --------------\n",
    "# Feel free to make any changes to this cell to debug your code\n",
    "\n",
    "network_config = {\"state_dim\": 5,\n",
    "                  \"num_hidden_units\": 2,\n",
    "                  \"num_actions\": 3\n",
    "                 }\n",
    "\n",
    "optimizer_info = {\"step_size\": 0.1,\n",
    "                  \"beta_m\": 0.99,\n",
    "                  \"beta_v\": 0.999,\n",
    "                  \"epsilon\": 0.0001\n",
    "                 }\n",
    "\n",
    "network = ActionValueNetwork(network_config)\n",
    "test_adam = Adam(network.layer_sizes, optimizer_info)\n",
    "\n",
    "print(\"m[0][\\\"W\\\"] shape: {}\".format(test_adam.m[0][\"W\"].shape))\n",
    "print(\"m[0][\\\"b\\\"] shape: {}\".format(test_adam.m[0][\"b\"].shape))\n",
    "print(\"m[1][\\\"W\\\"] shape: {}\".format(test_adam.m[1][\"W\"].shape))\n",
    "print(\"m[1][\\\"b\\\"] shape: {}\".format(test_adam.m[1][\"b\"].shape), \"\\n\")\n",
    "\n",
    "assert(np.allclose(test_adam.m[0][\"W\"].shape, np.array([5, 2])))\n",
    "assert(np.allclose(test_adam.m[0][\"b\"].shape, np.array([1, 2])))\n",
    "assert(np.allclose(test_adam.m[1][\"W\"].shape, np.array([2, 3])))\n",
    "assert(np.allclose(test_adam.m[1][\"b\"].shape, np.array([1, 3])))\n",
    "\n",
    "print(\"v[0][\\\"W\\\"] shape: {}\".format(test_adam.v[0][\"W\"].shape))\n",
    "print(\"v[0][\\\"b\\\"] shape: {}\".format(test_adam.v[0][\"b\"].shape))\n",
    "print(\"v[1][\\\"W\\\"] shape: {}\".format(test_adam.v[1][\"W\"].shape))\n",
    "print(\"v[1][\\\"b\\\"] shape: {}\".format(test_adam.v[1][\"b\"].shape), \"\\n\")\n",
    "\n",
    "assert(np.allclose(test_adam.v[0][\"W\"].shape, np.array([5, 2])))\n",
    "assert(np.allclose(test_adam.v[0][\"b\"].shape, np.array([1, 2])))\n",
    "assert(np.allclose(test_adam.v[1][\"W\"].shape, np.array([2, 3])))\n",
    "assert(np.allclose(test_adam.v[1][\"b\"].shape, np.array([1, 3])))\n",
    "\n",
    "assert(np.all(test_adam.m[0][\"W\"]==0))\n",
    "assert(np.all(test_adam.m[0][\"b\"]==0))\n",
    "assert(np.all(test_adam.m[1][\"W\"]==0))\n",
    "assert(np.all(test_adam.m[1][\"b\"]==0))\n",
    "\n",
    "assert(np.all(test_adam.v[0][\"W\"]==0))\n",
    "assert(np.all(test_adam.v[0][\"b\"]==0))\n",
    "assert(np.all(test_adam.v[1][\"W\"]==0))\n",
    "assert(np.all(test_adam.v[1][\"b\"]==0))"
   ]
  },
  {
   "cell_type": "code",
   "execution_count": 7,
   "metadata": {
    "ExecuteTime": {
     "end_time": "2021-06-17T11:57:06.734703Z",
     "start_time": "2021-06-17T11:57:05.651583Z"
    },
    "deletable": false,
    "editable": false,
    "nbgrader": {
     "cell_type": "code",
     "checksum": "78b04676af63a17cd9ec3b207a18e1f1",
     "grade": true,
     "grade_id": "cell-32c93afdee106ad5",
     "locked": true,
     "points": 20,
     "schema_version": 3,
     "solution": false,
     "task": false
    }
   },
   "outputs": [],
   "source": [
    "# -----------\n",
    "# Tested Cell\n",
    "# -----------\n",
    "# The contents of the cell will be tested by the autograder.\n",
    "# If they do not pass here, they will not pass there.\n",
    "\n",
    "\n",
    "\n",
    "# import our implementation of Adam\n",
    "# while you can go look at this for the answer, try to solve the programming challenge yourself first\n",
    "from tests import TrueAdam\n",
    "\n",
    "rand_generator = np.random.RandomState(0)\n",
    "for _ in range(1000):\n",
    "    network_config = {\n",
    "        \"state_dim\": rand_generator.randint(2, 10),\n",
    "        \"num_hidden_units\": rand_generator.randint(2, 1024),\n",
    "        \"num_actions\": rand_generator.randint(2, 10)\n",
    "    }\n",
    "    \n",
    "    optimizer_info = {\"step_size\": rand_generator.choice(np.geomspace(0.1, 1e-5, num=5)),\n",
    "                  \"beta_m\": rand_generator.choice([0.9, 0.99, 0.999, 0.9999, 0.99999]),\n",
    "                  \"beta_v\": rand_generator.choice([0.9, 0.99, 0.999, 0.9999, 0.99999]),\n",
    "                  \"epsilon\": rand_generator.choice(np.geomspace(0.1, 1e-5, num=5))\n",
    "                 }\n",
    "\n",
    "    test_network = ActionValueNetwork(network_config)\n",
    "    test_adam = Adam(test_network.layer_sizes, optimizer_info)\n",
    "    true_adam = TrueAdam(test_network.layer_sizes, optimizer_info)\n",
    "    \n",
    "    assert(np.allclose(test_adam.m[0][\"W\"].shape, true_adam.m[0][\"W\"].shape))\n",
    "    assert(np.allclose(test_adam.m[0][\"b\"].shape, true_adam.m[0][\"b\"].shape))\n",
    "    assert(np.allclose(test_adam.m[1][\"W\"].shape, true_adam.m[1][\"W\"].shape))\n",
    "    assert(np.allclose(test_adam.m[1][\"b\"].shape, true_adam.m[1][\"b\"].shape))\n",
    "\n",
    "    assert(np.allclose(test_adam.v[0][\"W\"].shape, true_adam.v[0][\"W\"].shape))\n",
    "    assert(np.allclose(test_adam.v[0][\"b\"].shape, true_adam.v[0][\"b\"].shape))\n",
    "    assert(np.allclose(test_adam.v[1][\"W\"].shape, true_adam.v[1][\"W\"].shape))\n",
    "    assert(np.allclose(test_adam.v[1][\"b\"].shape, true_adam.v[1][\"b\"].shape))\n",
    "\n",
    "    assert(np.all(test_adam.m[0][\"W\"]==0))\n",
    "    assert(np.all(test_adam.m[0][\"b\"]==0))\n",
    "    assert(np.all(test_adam.m[1][\"W\"]==0))\n",
    "    assert(np.all(test_adam.m[1][\"b\"]==0))\n",
    "\n",
    "    assert(np.all(test_adam.v[0][\"W\"]==0))\n",
    "    assert(np.all(test_adam.v[0][\"b\"]==0))\n",
    "    assert(np.all(test_adam.v[1][\"W\"]==0))\n",
    "    assert(np.all(test_adam.v[1][\"b\"]==0))\n",
    "    \n",
    "    assert(test_adam.beta_m_product == optimizer_info[\"beta_m\"])\n",
    "    assert(test_adam.beta_v_product == optimizer_info[\"beta_v\"])"
   ]
  },
  {
   "cell_type": "markdown",
   "metadata": {},
   "source": [
    "**Expected output:**\n",
    "\n",
    "    m[0][\"W\"] shape: (5, 2)\n",
    "    m[0][\"b\"] shape: (1, 2)\n",
    "    m[1][\"W\"] shape: (2, 3)\n",
    "    m[1][\"b\"] shape: (1, 3) \n",
    "\n",
    "    v[0][\"W\"] shape: (5, 2)\n",
    "    v[0][\"b\"] shape: (1, 2)\n",
    "    v[1][\"W\"] shape: (2, 3)\n",
    "    v[1][\"b\"] shape: (1, 3) "
   ]
  },
  {
   "cell_type": "markdown",
   "metadata": {
    "deletable": false,
    "editable": false,
    "nbgrader": {
     "cell_type": "markdown",
     "checksum": "1e2c3416db5fbd5cc08a6b34a59f3b57",
     "grade": false,
     "grade_id": "cell-070867fcd800c19d",
     "locked": true,
     "schema_version": 3,
     "solution": false,
     "task": false
    }
   },
   "source": [
    "## Section 3: Experience Replay Buffers\n",
    "\n",
    "In Course 3, you implemented agents that update value functions once for each sample. We can use a more efficient approach for updating value functions. You have seen an example of an efficient approach in Course 2 when implementing Dyna. The idea behind Dyna is to learn a model using sampled experience, obtain simulated experience from the model, and improve the value function using the simulated experience.\n",
    "\n",
    "Experience replay is a simple method that can get some of the advantages of Dyna by saving a buffer of experience and using the data stored in the buffer as a model. This view of prior data as a model works because the data represents actual transitions from the underlying MDP. Furthermore, as a side note, this kind of model that is not learned and simply a collection of experience can be called non-parametric as it can be ever-growing as opposed to a parametric model where the transitions are learned to be represented with a fixed set of parameters or weights.\n",
    "\n",
    "We have provided the implementation of the experience replay buffer in the cell below. ReplayBuffer includes two main functions: `append()` and `sample()`. `append()` adds an experience transition to the buffer as an array that includes the state, action, reward, terminal flag (indicating termination of the episode), and next_state. `sample()` gets a batch of experiences from the buffer with size `minibatch_size`.\n",
    "\n",
    "You will use the `append()` and `sample()` functions when implementing the agent."
   ]
  },
  {
   "cell_type": "code",
   "execution_count": 8,
   "metadata": {
    "ExecuteTime": {
     "end_time": "2021-06-17T11:57:06.741301Z",
     "start_time": "2021-06-17T11:57:06.736480Z"
    },
    "deletable": false,
    "editable": false,
    "nbgrader": {
     "cell_type": "code",
     "checksum": "dd216bf2169746f6331d6a5fbd79d605",
     "grade": false,
     "grade_id": "cell-1e1aaa0d442eb015",
     "locked": true,
     "schema_version": 3,
     "solution": false,
     "task": false
    }
   },
   "outputs": [],
   "source": [
    "# ---------------\n",
    "# Discussion Cell\n",
    "# ---------------\n",
    "\n",
    "class ReplayBuffer:\n",
    "    def __init__(self, size, minibatch_size, seed):\n",
    "        \"\"\"\n",
    "        Args:\n",
    "            size (integer): The size of the replay buffer.              \n",
    "            minibatch_size (integer): The sample size.\n",
    "            seed (integer): The seed for the random number generator. \n",
    "        \"\"\"\n",
    "        self.buffer = []\n",
    "        self.minibatch_size = minibatch_size\n",
    "        self.rand_generator = np.random.RandomState(seed)\n",
    "        self.max_size = size\n",
    "\n",
    "    def append(self, state, action, reward, terminal, next_state):\n",
    "        \"\"\"\n",
    "        Args:\n",
    "            state (Numpy array): The state.              \n",
    "            action (integer): The action.\n",
    "            reward (float): The reward.\n",
    "            terminal (integer): 1 if the next state is a terminal state and 0 otherwise.\n",
    "            next_state (Numpy array): The next state.           \n",
    "        \"\"\"\n",
    "        if len(self.buffer) == self.max_size:\n",
    "            del self.buffer[0]\n",
    "        self.buffer.append([state, action, reward, terminal, next_state])\n",
    "\n",
    "    def sample(self):\n",
    "        \"\"\"\n",
    "        Returns:\n",
    "            A list of transition tuples including state, action, reward, terinal, and next_state\n",
    "        \"\"\"\n",
    "        idxs = self.rand_generator.choice(np.arange(len(self.buffer)), size=self.minibatch_size)\n",
    "        return [self.buffer[idx] for idx in idxs]\n",
    "\n",
    "    def size(self):\n",
    "        return len(self.buffer)"
   ]
  },
  {
   "cell_type": "markdown",
   "metadata": {
    "deletable": false,
    "editable": false,
    "nbgrader": {
     "cell_type": "markdown",
     "checksum": "c28fd69bca4622a73612f68ac95d7826",
     "grade": false,
     "grade_id": "cell-21cc33a3ea0ac94b",
     "locked": true,
     "schema_version": 3,
     "solution": false,
     "task": false
    }
   },
   "source": [
    "## Section 4: Softmax Policy\n",
    "\n",
    "In this assignment, you will use a softmax policy. One advantage of a softmax policy is that it explores according to the action-values, meaning that an action with a moderate value has a higher chance of getting selected compared to an action with a lower value. Contrast this with an $\\epsilon$-greedy policy which does not consider the individual action values when choosing an exploratory action in a state and instead chooses randomly when doing so.\n",
    "\n",
    "The probability of selecting each action according to the softmax policy is shown below:\n",
    "$$Pr{(A_t=a | S_t=s)} \\hspace{0.1cm} \\dot{=} \\hspace{0.1cm} \\frac{e^{Q(s, a)/\\tau}}{\\sum_{b \\in A}e^{Q(s, b)/\\tau}}$$\n",
    "where $\\tau$ is the temperature parameter which controls how much the agent focuses on the highest valued actions. The smaller the temperature, the more the agent selects the greedy action. Conversely, when the temperature is high, the agent selects among actions more uniformly random.\n",
    "\n",
    "Given that a softmax policy exponentiates action values, if those values are large, exponentiating them could get very large. To implement the softmax policy in a numerically stable way, we often subtract the maximum action-value from the action-values. If we do so, the probability of selecting each action looks as follows:\n",
    "\n",
    "$$Pr{(A_t=a | S_t=s)} \\hspace{0.1cm} \\dot{=} \\hspace{0.1cm} \\frac{e^{Q(s, a)/\\tau - max_{c}Q(s, c)/\\tau}}{\\sum_{b \\in A}e^{Q(s, b)/\\tau - max_{c}Q(s, c)/\\tau}}$$\n",
    "\n",
    "In the cell below, you will implement the `softmax()` function. In order to do so, you could break the above computation into smaller steps:\n",
    "- compute the preference, $H(a)$, for taking each action by dividing the action-values by the temperature parameter $\\tau$,\n",
    "- subtract the maximum preference across the actions from the preferences to avoid overflow, and,\n",
    "- compute the probability of taking each action."
   ]
  },
  {
   "cell_type": "code",
   "execution_count": 9,
   "metadata": {
    "ExecuteTime": {
     "end_time": "2021-06-17T11:57:06.754807Z",
     "start_time": "2021-06-17T11:57:06.743035Z"
    },
    "nbgrader": {
     "cell_type": "code",
     "checksum": "0bc082ff0d5b933fb88fa1936f2057d3",
     "grade": false,
     "grade_id": "cell-b32ebbeb60c5b9f7",
     "locked": false,
     "schema_version": 3,
     "solution": true,
     "task": false
    }
   },
   "outputs": [],
   "source": [
    "# -----------\n",
    "# Graded Cell\n",
    "# -----------\n",
    "\n",
    "def softmax(action_values, tau=1.0):\n",
    "    \"\"\"\n",
    "    Args:\n",
    "        action_values (Numpy array): A 2D array of shape (batch_size, num_actions). \n",
    "                       The action-values computed by an action-value network.              \n",
    "        tau (float): The temperature parameter scalar.\n",
    "    Returns:\n",
    "        A 2D array of shape (batch_size, num_actions). Where each column is a probability distribution over\n",
    "        the actions representing the policy.\n",
    "    \"\"\"\n",
    "    \n",
    "    # Compute the preferences by dividing the action-values by the temperature parameter tau\n",
    "    preferences = None\n",
    "    # Compute the maximum preference across the actions\n",
    "    max_preference = None\n",
    "    \n",
    "    # your code here\n",
    "    preferences = action_values / tau\n",
    "    max_preference = np.max(preferences, axis=1)\n",
    "    \n",
    "    \n",
    "    # Reshape max_preference array which has shape [Batch,] to [Batch, 1]. This allows NumPy broadcasting \n",
    "    # when subtracting the maximum preference from the preference of each action.\n",
    "    reshaped_max_preference = max_preference.reshape((-1, 1))\n",
    "    \n",
    "    # Compute the numerator, i.e., the exponential of the preference - the max preference.\n",
    "    exp_preferences = None\n",
    "    # Compute the denominator, i.e., the sum over the numerator along the actions axis.\n",
    "    sum_of_exp_preferences = None\n",
    "    \n",
    "    # your code here\n",
    "    exp_preferences = np.exp( preferences - reshaped_max_preference  )\n",
    "    sum_of_exp_preferences = np.sum( exp_preferences , axis=1)\n",
    "    \n",
    "    \n",
    "    # Reshape sum_of_exp_preferences array which has shape [Batch,] to [Batch, 1] to  allow for NumPy broadcasting \n",
    "    # when dividing the numerator by the denominator.\n",
    "    reshaped_sum_of_exp_preferences = sum_of_exp_preferences.reshape((-1, 1))\n",
    "    \n",
    "    # Compute the action probabilities according to the equation in the previous cell.\n",
    "    action_probs = None\n",
    "    \n",
    "    # your code here\n",
    "    action_probs = exp_preferences / reshaped_sum_of_exp_preferences\n",
    "    \n",
    "    \n",
    "    # squeeze() removes any singleton dimensions. It is used here because this function is used in the \n",
    "    # agent policy when selecting an action (for which the batch dimension is 1.) As np.random.choice is used in \n",
    "    # the agent policy and it expects 1D arrays, we need to remove this singleton batch dimension.\n",
    "    action_probs = action_probs.squeeze()\n",
    "    return action_probs"
   ]
  },
  {
   "cell_type": "markdown",
   "metadata": {
    "deletable": false,
    "editable": false,
    "nbgrader": {
     "cell_type": "markdown",
     "checksum": "c88e2bfeb8b6915745bc8a136d818a2c",
     "grade": false,
     "grade_id": "cell-df0ee871ce60dea2",
     "locked": true,
     "schema_version": 3,
     "solution": false,
     "task": false
    }
   },
   "source": [
    "Run the cell below to test your implementation of the `softmax()` function:"
   ]
  },
  {
   "cell_type": "code",
   "execution_count": 10,
   "metadata": {
    "ExecuteTime": {
     "end_time": "2021-06-17T11:57:06.763823Z",
     "start_time": "2021-06-17T11:57:06.755837Z"
    }
   },
   "outputs": [
    {
     "name": "stdout",
     "output_type": "stream",
     "text": [
      "action_probs [[0.25849645 0.01689625 0.05374514 0.67086216]\n",
      " [0.84699852 0.00286345 0.13520063 0.01493741]]\n",
      "Passed the asserts! (Note: These are however limited in scope, additional testing is encouraged.)\n"
     ]
    }
   ],
   "source": [
    "# --------------\n",
    "# Debugging Cell\n",
    "# --------------\n",
    "# Feel free to make any changes to this cell to debug your code\n",
    "\n",
    "rand_generator = np.random.RandomState(0)\n",
    "action_values = rand_generator.normal(0, 1, (2, 4))\n",
    "tau = 0.5\n",
    "\n",
    "action_probs = softmax(action_values, tau)\n",
    "print(\"action_probs\", action_probs)\n",
    "\n",
    "assert(np.allclose(action_probs, np.array([\n",
    "    [0.25849645, 0.01689625, 0.05374514, 0.67086216],\n",
    "    [0.84699852, 0.00286345, 0.13520063, 0.01493741]\n",
    "])))\n",
    "\n",
    "print(\"Passed the asserts! (Note: These are however limited in scope, additional testing is encouraged.)\")"
   ]
  },
  {
   "cell_type": "code",
   "execution_count": 11,
   "metadata": {
    "ExecuteTime": {
     "end_time": "2021-06-17T11:57:06.886599Z",
     "start_time": "2021-06-17T11:57:06.765107Z"
    },
    "deletable": false,
    "editable": false,
    "nbgrader": {
     "cell_type": "code",
     "checksum": "72670a38cf2dcb8dd9c83293392bc3cd",
     "grade": true,
     "grade_id": "cell-ce689c1bd91bc11f",
     "locked": true,
     "points": 10,
     "schema_version": 3,
     "solution": false,
     "task": false
    }
   },
   "outputs": [],
   "source": [
    "# -----------\n",
    "# Tested Cell\n",
    "# -----------\n",
    "# The contents of the cell will be tested by the autograder.\n",
    "# If they do not pass here, they will not pass there.\n",
    "\n",
    "from tests import __true__softmax\n",
    "\n",
    "rand_generator = np.random.RandomState(0)\n",
    "for _ in range(1000):\n",
    "    action_values = rand_generator.normal(0, 1, (rand_generator.randint(1, 5), 4))\n",
    "    tau = rand_generator.rand()\n",
    "    assert(np.allclose(softmax(action_values, tau), __true__softmax(action_values, tau)))"
   ]
  },
  {
   "cell_type": "markdown",
   "metadata": {
    "deletable": false,
    "editable": false,
    "nbgrader": {
     "cell_type": "markdown",
     "checksum": "cbae924e257425842433cf6b49aa0128",
     "grade": false,
     "grade_id": "cell-af71b793e63f3db0",
     "locked": true,
     "schema_version": 3,
     "solution": false,
     "task": false
    }
   },
   "source": [
    "**Expected output:**\n",
    "\n",
    "    action_probs [[0.25849645 0.01689625 0.05374514 0.67086216]\n",
    "     [0.84699852 0.00286345 0.13520063 0.01493741]]"
   ]
  },
  {
   "cell_type": "markdown",
   "metadata": {
    "deletable": false,
    "editable": false,
    "nbgrader": {
     "cell_type": "markdown",
     "checksum": "9b74fe561e81cd10e366c2ad76673248",
     "grade": false,
     "grade_id": "cell-9d3660107222383d",
     "locked": true,
     "schema_version": 3,
     "solution": false,
     "task": false
    }
   },
   "source": [
    "## Section 5: Putting the pieces together\n",
    "\n",
    "In this section, you will combine components from the previous sections to write up an RL-Glue Agent. The main component that you will implement is the action-value network updates with experience sampled from the experience replay buffer.\n",
    "\n",
    "At time $t$, we have an action-value function represented as a neural network, say $Q_t$. We want to update our action-value function and get a new one we can use at the next timestep. We will get this $Q_{t+1}$ using multiple replay steps that each result in an intermediate action-value function $Q_{t+1}^{i}$ where $i$ indexes which replay step we are at.\n",
    "\n",
    "In each replay step, we sample a batch of experiences from the replay buffer and compute a minibatch Expected-SARSA update. Across these N replay steps, we will use the current \"un-updated\" action-value network at time $t$, $Q_t$, for computing the action-values of the next-states. This contrasts using the most recent action-values from the last replay step $Q_{t+1}^{i}$. We make this choice to have targets that are stable across replay steps. Here is the pseudocode for performing the updates:\n",
    "\n",
    "$$\n",
    "\\begin{align}\n",
    "& Q_t \\leftarrow \\text{action-value network at timestep t (current action-value network)}\\\\\n",
    "& \\text{Initialize } Q_{t+1}^1 \\leftarrow Q_t\\\\\n",
    "& \\text{For } i \\text{ in } [1, ..., N] \\text{ (i.e. N} \\text{  replay steps)}:\\\\\n",
    "& \\hspace{1cm} s, a, r, t, s'\n",
    "\\leftarrow \\text{Sample batch of experiences from experience replay buffer} \\\\\n",
    "& \\hspace{1cm} \\text{Do Expected Sarsa update with } Q_t: Q_{t+1}^{i+1}(s, a) \\leftarrow Q_{t+1}^{i}(s, a) + \\alpha \\cdot \\left[r + \\gamma \\left(\\sum_{b} \\pi(b | s') Q_t(s', b)\\right) - Q_{t+1}^{i}(s, a)\\right]\\\\\n",
    "& \\hspace{1.5cm} \\text{ making sure to add the } \\gamma \\left(\\sum_{b} \\pi(b | s') Q_t(s', b)\\right) \\text{ for non-terminal transitions only.} \\\\\n",
    "& \\text{After N replay steps, we set } Q_{t+1}^{N} \\text{ as } Q_{t+1} \\text{ and have a new } Q_{t+1} \\text{for time step } t + 1 \\text{ that we will fix in the next set of updates. }\n",
    "\\end{align}\n",
    "$$\n",
    "\n",
    "As you can see in the pseudocode, after sampling a batch of experiences, we do many computations. The basic idea however is that we are looking to compute a form of a TD error. In order to so, we can take the following steps:\n",
    "- compute the action-values for the next states using the action-value network $Q_{t}$,\n",
    "- compute the policy $\\pi(b | s')$ induced by the action-values $Q_{t}$ (using the softmax function you implemented before),\n",
    "- compute the Expected sarsa targets $r + \\gamma \\left(\\sum_{b} \\pi(b | s') Q_t(s', b)\\right)$,\n",
    "- compute the action-values for the current states using the latest $Q_{t + 1}$, and,\n",
    "- compute the TD-errors with the Expected Sarsa targets.\n",
    " \n",
    "For the third step above, you can start by computing $\\pi(b | s') Q_t(s', b)$ followed by summation to get $\\hat{v}_\\pi(s') = \\left(\\sum_{b} \\pi(b | s') Q_t(s', b)\\right)$. $\\hat{v}_\\pi(s')$ is an estimate of the value of the next state. Note for terminal next states, $\\hat{v}_\\pi(s') = 0$. Finally, we add the rewards to the discount times $\\hat{v}_\\pi(s')$.\n",
    "\n",
    "You will implement these steps in the `get_td_error()` function below which given a batch of experiences (including states, next_states, actions, rewards, terminals), fixed action-value network (current_q), and action-value network (network), computes the TD error in the form of a 1D array of size batch_size."
   ]
  },
  {
   "cell_type": "code",
   "execution_count": 12,
   "metadata": {
    "ExecuteTime": {
     "end_time": "2021-06-17T11:57:06.894269Z",
     "start_time": "2021-06-17T11:57:06.887822Z"
    },
    "nbgrader": {
     "cell_type": "code",
     "checksum": "7e8ff7f160ca26a7639acc062ae6b29a",
     "grade": false,
     "grade_id": "cell-f370691c828efad9",
     "locked": false,
     "schema_version": 3,
     "solution": true,
     "task": false
    }
   },
   "outputs": [],
   "source": [
    "### Work Required: Yes. Fill in code in get_td_error (~9 Lines).\n",
    "def get_td_error(states, next_states, actions, rewards, discount, terminals, network, current_q, tau):\n",
    "    \"\"\"\n",
    "    Args:\n",
    "        states (Numpy array): The batch of states with the shape (batch_size, state_dim).\n",
    "        next_states (Numpy array): The batch of next states with the shape (batch_size, state_dim).\n",
    "        actions (Numpy array): The batch of actions with the shape (batch_size,).\n",
    "        rewards (Numpy array): The batch of rewards with the shape (batch_size,).\n",
    "        discount (float): The discount factor.\n",
    "        terminals (Numpy array): The batch of terminals with the shape (batch_size,).\n",
    "        network (ActionValueNetwork): The latest state of the network that is getting replay updates.\n",
    "        current_q (ActionValueNetwork): The fixed network used for computing the targets, \n",
    "                                        and particularly, the action-values at the next-states.\n",
    "    Returns:\n",
    "        The TD errors (Numpy array) for actions taken, of shape (batch_size,)\n",
    "    \"\"\"\n",
    "    \n",
    "    # Note: Here network is the latest state of the network that is getting replay updates. In other words, \n",
    "    # the network represents Q_{t+1}^{i} whereas current_q represents Q_t, the fixed network used for computing the \n",
    "    # targets, and particularly, the action-values at the next-states.\n",
    "    \n",
    "    # Compute action values at next states using current_q network\n",
    "    # Note that q_next_mat is a 2D array of shape (batch_size, num_actions)\n",
    "    \n",
    "    ### START CODE HERE (~1 Line)\n",
    "    q_next_mat = None\n",
    "    ### END CODE HERE\n",
    "    # your code here\n",
    "    q_next_mat = current_q.get_action_values(next_states)\n",
    "    \n",
    "    \n",
    "    # Compute policy at next state by passing the action-values in q_next_mat to softmax()\n",
    "    # Note that probs_mat is a 2D array of shape (batch_size, num_actions)\n",
    "    \n",
    "    ### START CODE HERE (~1 Line)\n",
    "    probs_mat = None\n",
    "    ### END CODE HERE\n",
    "    # your code here\n",
    "    probs_mat = softmax(q_next_mat, tau)\n",
    "    \n",
    "    \n",
    "    # Compute the estimate of the next state value, v_next_vec.\n",
    "    # Hint: sum the action-values for the next_states weighted by the policy, probs_mat. Then, multiply by\n",
    "    # (1 - terminals) to make sure v_next_vec is zero for terminal next states.\n",
    "    # Note that v_next_vec is a 1D array of shape (batch_size,)\n",
    "    \n",
    "    ### START CODE HERE (~3 Lines)\n",
    "    v_next_vec = None\n",
    "    ### END CODE HERE\n",
    "    # your code here\n",
    "    v_next_vec = np.sum( q_next_mat * probs_mat, axis=1 ) * (1-terminals)\n",
    "    \n",
    "    \n",
    "    # Compute Expected Sarsa target\n",
    "    # Note that target_vec is a 1D array of shape (batch_size,)\n",
    "    \n",
    "    ### START CODE HERE (~1 Line)\n",
    "    target_vec = None\n",
    "    ### END CODE HERE\n",
    "    # your code here\n",
    "    target_vec = rewards + discount * v_next_vec\n",
    "    \n",
    "    \n",
    "    # Compute action values at the current states for all actions using network\n",
    "    # Note that q_mat is a 2D array of shape (batch_size, num_actions)\n",
    "    \n",
    "    ### START CODE HERE (~1 Line)\n",
    "    q_mat = None\n",
    "    ### END CODE HERE\n",
    "    # your code here\n",
    "    q_mat = network.get_action_values(states)\n",
    "    \n",
    "    \n",
    "    # Batch Indices is an array from 0 to the batch size - 1. \n",
    "    batch_indices = np.arange(q_mat.shape[0])\n",
    "\n",
    "    # Compute q_vec by selecting q(s, a) from q_mat for taken actions\n",
    "    # Use batch_indices as the index for the first dimension of q_mat\n",
    "    # Note that q_vec is a 1D array of shape (batch_size)\n",
    "    \n",
    "    ### START CODE HERE (~1 Line)\n",
    "    q_vec = None\n",
    "    ### END CODE HERE\n",
    "    # your code here\n",
    "    q_vec= q_mat[batch_indices, actions]\n",
    "    \n",
    "    # Compute TD errors for actions taken\n",
    "    # Note that delta_vec is a 1D array of shape (batch_size)\n",
    "    \n",
    "    ### START CODE HERE (~1 Line)\n",
    "    delta_vec = None\n",
    "    ### END CODE HERE\n",
    "    # your code here\n",
    "    delta_vec = target_vec - q_vec\n",
    "    \n",
    "    \n",
    "    return delta_vec"
   ]
  },
  {
   "cell_type": "markdown",
   "metadata": {
    "deletable": false,
    "editable": false,
    "nbgrader": {
     "cell_type": "markdown",
     "checksum": "324b3f707db53cbe0e0182d494691fa4",
     "grade": false,
     "grade_id": "cell-07d3abd266be6559",
     "locked": true,
     "schema_version": 3,
     "solution": false,
     "task": false
    }
   },
   "source": [
    "Run the following code to test your implementation of the `get_td_error()` function:"
   ]
  },
  {
   "cell_type": "code",
   "execution_count": 13,
   "metadata": {
    "ExecuteTime": {
     "end_time": "2021-06-17T11:57:06.909888Z",
     "start_time": "2021-06-17T11:57:06.895363Z"
    }
   },
   "outputs": [
    {
     "name": "stdout",
     "output_type": "stream",
     "text": [
      "Passed the asserts! (Note: These are however limited in scope, additional testing is encouraged.)\n"
     ]
    }
   ],
   "source": [
    "# --------------\n",
    "# Debugging Cell\n",
    "# --------------\n",
    "# Feel free to make any changes to this cell to debug your code\n",
    "\n",
    "data = np.load(\"asserts/get_td_error_1.npz\", allow_pickle=True)\n",
    "\n",
    "states = data[\"states\"]\n",
    "next_states = data[\"next_states\"]\n",
    "actions = data[\"actions\"]\n",
    "rewards = data[\"rewards\"]\n",
    "discount = data[\"discount\"]\n",
    "terminals = data[\"terminals\"]\n",
    "tau = 0.001\n",
    "\n",
    "network_config = {\"state_dim\": 8,\n",
    "                  \"num_hidden_units\": 512,\n",
    "                  \"num_actions\": 4\n",
    "                  }\n",
    "\n",
    "network = ActionValueNetwork(network_config)\n",
    "network.set_weights(data[\"network_weights\"])\n",
    "\n",
    "current_q = ActionValueNetwork(network_config)\n",
    "current_q.set_weights(data[\"current_q_weights\"])\n",
    "\n",
    "delta_vec = get_td_error(states, next_states, actions, rewards, discount, terminals, network, current_q, tau)\n",
    "answer_delta_vec = data[\"delta_vec\"]\n",
    "\n",
    "assert(np.allclose(delta_vec, answer_delta_vec))\n",
    "print(\"Passed the asserts! (Note: These are however limited in scope, additional testing is encouraged.)\")"
   ]
  },
  {
   "cell_type": "code",
   "execution_count": 14,
   "metadata": {
    "ExecuteTime": {
     "end_time": "2021-06-17T11:57:06.921647Z",
     "start_time": "2021-06-17T11:57:06.911059Z"
    },
    "deletable": false,
    "editable": false,
    "nbgrader": {
     "cell_type": "code",
     "checksum": "de39bdc2c7e843db180faf962fac9572",
     "grade": true,
     "grade_id": "cell-6b4dccc113c7b5c9",
     "locked": true,
     "points": 20,
     "schema_version": 3,
     "solution": false,
     "task": false
    }
   },
   "outputs": [],
   "source": [
    "# -----------\n",
    "# Tested Cell\n",
    "# -----------\n",
    "# The contents of the cell will be tested by the autograder.\n",
    "# If they do not pass here, they will not pass there.\n",
    "\n",
    "data = np.load(\"asserts/get_td_error_1.npz\", allow_pickle=True)\n",
    "\n",
    "states = data[\"states\"]\n",
    "next_states = data[\"next_states\"]\n",
    "actions = data[\"actions\"]\n",
    "rewards = data[\"rewards\"]\n",
    "discount = data[\"discount\"]\n",
    "terminals = data[\"terminals\"]\n",
    "tau = 0.001\n",
    "\n",
    "network_config = {\"state_dim\": 8,\n",
    "                  \"num_hidden_units\": 512,\n",
    "                  \"num_actions\": 4\n",
    "                  }\n",
    "\n",
    "network = ActionValueNetwork(network_config)\n",
    "network.set_weights(data[\"network_weights\"])\n",
    "\n",
    "current_q = ActionValueNetwork(network_config)\n",
    "current_q.set_weights(data[\"current_q_weights\"])\n",
    "\n",
    "delta_vec = get_td_error(states, next_states, actions, rewards, discount, terminals, network, current_q, tau)\n",
    "answer_delta_vec = data[\"delta_vec\"]\n",
    "\n",
    "assert(np.allclose(delta_vec, answer_delta_vec))"
   ]
  },
  {
   "cell_type": "markdown",
   "metadata": {
    "deletable": false,
    "editable": false,
    "nbgrader": {
     "cell_type": "markdown",
     "checksum": "be42a5cbc9a9a6b71d6bd29e4ff78984",
     "grade": false,
     "grade_id": "cell-68c8eca2519dd27d",
     "locked": true,
     "schema_version": 3,
     "solution": false,
     "task": false
    }
   },
   "source": [
    "Now that you implemented the `get_td_error()` function, you can use it to implement the `optimize_network()` function. In this function, you will:\n",
    "- get the TD-errors vector from `get_td_error()`,\n",
    "- make the TD-errors into a matrix using zeroes for actions not taken in the transitions,\n",
    "- pass the TD-errors matrix to the `get_TD_update()` function of network to calculate the gradients times TD errors, and,\n",
    "- perform an ADAM optimizer step."
   ]
  },
  {
   "cell_type": "code",
   "execution_count": 15,
   "metadata": {
    "ExecuteTime": {
     "end_time": "2021-06-17T11:57:06.927689Z",
     "start_time": "2021-06-17T11:57:06.922779Z"
    },
    "nbgrader": {
     "cell_type": "code",
     "checksum": "5772dc09af7d47867f70baa8580057cf",
     "grade": false,
     "grade_id": "cell-2b9714cb6ee933de",
     "locked": false,
     "schema_version": 3,
     "solution": true,
     "task": false
    }
   },
   "outputs": [],
   "source": [
    "# -----------\n",
    "# Graded Cell\n",
    "# -----------\n",
    "\n",
    "### Work Required: Yes. Fill in code in optimize_network (~2 Lines).\n",
    "def optimize_network(experiences, discount, optimizer, network, current_q, tau):\n",
    "    \"\"\"\n",
    "    Args:\n",
    "        experiences (Numpy array): The batch of experiences including the states, actions, \n",
    "                                   rewards, terminals, and next_states.\n",
    "        discount (float): The discount factor.\n",
    "        network (ActionValueNetwork): The latest state of the network that is getting replay updates.\n",
    "        current_q (ActionValueNetwork): The fixed network used for computing the targets, \n",
    "                                        and particularly, the action-values at the next-states.\n",
    "    \"\"\"\n",
    "    \n",
    "    # Get states, action, rewards, terminals, and next_states from experiences\n",
    "    states, actions, rewards, terminals, next_states = map(list, zip(*experiences))\n",
    "    states = np.concatenate(states)\n",
    "    next_states = np.concatenate(next_states)\n",
    "    rewards = np.array(rewards)\n",
    "    terminals = np.array(terminals)\n",
    "    batch_size = states.shape[0]\n",
    "\n",
    "    # Compute TD error using the get_td_error function\n",
    "    # Note that q_vec is a 1D array of shape (batch_size)\n",
    "    delta_vec = get_td_error(states, next_states, actions, rewards, discount, terminals, network, current_q, tau)\n",
    "\n",
    "    # Batch Indices is an array from 0 to the batch_size - 1. \n",
    "    batch_indices = np.arange(batch_size)\n",
    "\n",
    "    # Make a td error matrix of shape (batch_size, num_actions)\n",
    "    # delta_mat has non-zero value only for actions taken\n",
    "    delta_mat = np.zeros((batch_size, network.num_actions))\n",
    "    delta_mat[batch_indices, actions] = delta_vec\n",
    "\n",
    "    # Pass delta_mat to compute the TD errors times the gradients of the network's weights from back-propagation\n",
    "    \n",
    "    ### START CODE HERE\n",
    "    td_update = None\n",
    "    ### END CODE HERE\n",
    "    # your code here\n",
    "    td_update = network.get_TD_update(states, delta_mat)\n",
    "    \n",
    "    \n",
    "    # Pass network.get_weights and the td_update to the optimizer to get updated weights\n",
    "    ### START CODE HERE\n",
    "    weights = None\n",
    "    ### END CODE HERE\n",
    "    # your code here\n",
    "    weights = optimizer.update_weights(network.get_weights(), td_update)\n",
    "    \n",
    "    \n",
    "    network.set_weights(weights)"
   ]
  },
  {
   "cell_type": "markdown",
   "metadata": {
    "deletable": false,
    "editable": false,
    "nbgrader": {
     "cell_type": "markdown",
     "checksum": "f1510172c78a65fed30c285a935f29f4",
     "grade": false,
     "grade_id": "cell-dd47bfc5b0850596",
     "locked": true,
     "schema_version": 3,
     "solution": false,
     "task": false
    }
   },
   "source": [
    "Run the following code to test your implementation of the `optimize_network()` function:"
   ]
  },
  {
   "cell_type": "code",
   "execution_count": 16,
   "metadata": {
    "ExecuteTime": {
     "end_time": "2021-06-17T11:57:06.944470Z",
     "start_time": "2021-06-17T11:57:06.928751Z"
    },
    "deletable": false,
    "editable": false,
    "nbgrader": {
     "cell_type": "code",
     "checksum": "288c5aae724dcb5ac4edc8c5ebec827d",
     "grade": true,
     "grade_id": "cell-2fcf8d08f7cbc3f2",
     "locked": true,
     "points": 10,
     "schema_version": 3,
     "solution": false,
     "task": false
    }
   },
   "outputs": [],
   "source": [
    "# -----------\n",
    "# Tested Cell\n",
    "# -----------\n",
    "# The contents of the cell will be tested by the autograder.\n",
    "# If they do not pass here, they will not pass there.\n",
    "\n",
    "input_data = np.load(\"asserts/optimize_network_input_1.npz\", allow_pickle=True)\n",
    "\n",
    "experiences = list(input_data[\"experiences\"])\n",
    "discount = input_data[\"discount\"]\n",
    "tau = 0.001\n",
    "\n",
    "network_config = {\"state_dim\": 8,\n",
    "                  \"num_hidden_units\": 512,\n",
    "                  \"num_actions\": 4\n",
    "                  }\n",
    "\n",
    "network = ActionValueNetwork(network_config)\n",
    "network.set_weights(input_data[\"network_weights\"])\n",
    "\n",
    "current_q = ActionValueNetwork(network_config)\n",
    "current_q.set_weights(input_data[\"current_q_weights\"])\n",
    "\n",
    "optimizer_config = {'step_size': 3e-5, \n",
    "                    'beta_m': 0.9, \n",
    "                    'beta_v': 0.999,\n",
    "                    'epsilon': 1e-8\n",
    "                   }\n",
    "optimizer = Adam(network.layer_sizes, optimizer_config)\n",
    "optimizer.m = input_data[\"optimizer_m\"]\n",
    "optimizer.v = input_data[\"optimizer_v\"]\n",
    "optimizer.beta_m_product = input_data[\"optimizer_beta_m_product\"]\n",
    "optimizer.beta_v_product = input_data[\"optimizer_beta_v_product\"]\n",
    "\n",
    "optimize_network(experiences, discount, optimizer, network, current_q, tau)\n",
    "updated_weights = network.get_weights()\n",
    "\n",
    "output_data = np.load(\"asserts/optimize_network_output_1.npz\", allow_pickle=True)\n",
    "answer_updated_weights = output_data[\"updated_weights\"]\n",
    "\n",
    "assert(np.allclose(updated_weights[0][\"W\"], answer_updated_weights[0][\"W\"]))\n",
    "assert(np.allclose(updated_weights[0][\"b\"], answer_updated_weights[0][\"b\"]))\n",
    "assert(np.allclose(updated_weights[1][\"W\"], answer_updated_weights[1][\"W\"]))\n",
    "assert(np.allclose(updated_weights[1][\"b\"], answer_updated_weights[1][\"b\"]))"
   ]
  },
  {
   "cell_type": "markdown",
   "metadata": {
    "deletable": false,
    "editable": false,
    "nbgrader": {
     "cell_type": "markdown",
     "checksum": "298777333c00b402d67ac947c6cad456",
     "grade": false,
     "grade_id": "cell-66cff2d5725d31c3",
     "locked": true,
     "schema_version": 3,
     "solution": false,
     "task": false
    }
   },
   "source": [
    "Now that you implemented the `optimize_network()` function, you can implement the agent. In the cell below, you will fill the `agent_step()` and `agent_end()` functions. You should:\n",
    "- select an action (only in `agent_step()`),\n",
    "- add transitions (consisting of the state, action, reward, terminal, and next state) to the replay buffer, and,\n",
    "- update the weights of the neural network by doing multiple replay steps and calling the `optimize_network()` function that you implemented above."
   ]
  },
  {
   "cell_type": "code",
   "execution_count": 17,
   "metadata": {
    "ExecuteTime": {
     "end_time": "2021-06-17T11:57:06.955658Z",
     "start_time": "2021-06-17T11:57:06.945643Z"
    },
    "nbgrader": {
     "cell_type": "code",
     "checksum": "1d9134ac89ad8c86157599044f5dbc8e",
     "grade": false,
     "grade_id": "cell-54b5db480295424c",
     "locked": false,
     "schema_version": 3,
     "solution": true,
     "task": false
    }
   },
   "outputs": [],
   "source": [
    "# -----------\n",
    "# Graded Cell\n",
    "# -----------\n",
    "\n",
    "### Work Required: Yes. Fill in code in agent_step and agent_end (~7 Lines).\n",
    "class Agent(BaseAgent):\n",
    "    def __init__(self):\n",
    "        self.name = \"expected_sarsa_agent\"\n",
    "        \n",
    "    # Work Required: No.\n",
    "    def agent_init(self, agent_config):\n",
    "        \"\"\"Setup for the agent called when the experiment first starts.\n",
    "\n",
    "        Set parameters needed to setup the agent.\n",
    "\n",
    "        Assume agent_config dict contains:\n",
    "        {\n",
    "            network_config: dictionary,\n",
    "            optimizer_config: dictionary,\n",
    "            replay_buffer_size: integer,\n",
    "            minibatch_sz: integer, \n",
    "            num_replay_updates_per_step: float\n",
    "            discount_factor: float,\n",
    "        }\n",
    "        \"\"\"\n",
    "        self.replay_buffer = ReplayBuffer(agent_config['replay_buffer_size'], \n",
    "                                          agent_config['minibatch_sz'], agent_config.get(\"seed\"))\n",
    "        self.network = ActionValueNetwork(agent_config['network_config'])\n",
    "        self.optimizer = Adam(self.network.layer_sizes, agent_config[\"optimizer_config\"])\n",
    "        self.num_actions = agent_config['network_config']['num_actions']\n",
    "        self.num_replay = agent_config['num_replay_updates_per_step']\n",
    "        self.discount = agent_config['gamma']\n",
    "        self.tau = agent_config['tau']\n",
    "        \n",
    "        self.rand_generator = np.random.RandomState(agent_config.get(\"seed\"))\n",
    "        \n",
    "        self.last_state = None\n",
    "        self.last_action = None\n",
    "        \n",
    "        self.sum_rewards = 0\n",
    "        self.episode_steps = 0\n",
    "\n",
    "    # Work Required: No.\n",
    "    def policy(self, state):\n",
    "        \"\"\"\n",
    "        Args:\n",
    "            state (Numpy array): the state.\n",
    "        Returns:\n",
    "            the action. \n",
    "        \"\"\"\n",
    "        action_values = self.network.get_action_values(state)\n",
    "        probs_batch = softmax(action_values, self.tau)\n",
    "        action = self.rand_generator.choice(self.num_actions, p=probs_batch.squeeze())\n",
    "        return action\n",
    "\n",
    "    # Work Required: No.\n",
    "    def agent_start(self, state):\n",
    "        \"\"\"The first method called when the experiment starts, called after\n",
    "        the environment starts.\n",
    "        Args:\n",
    "            state (Numpy array): the state from the\n",
    "                environment's evn_start function.\n",
    "        Returns:\n",
    "            The first action the agent takes.\n",
    "        \"\"\"\n",
    "        self.sum_rewards = 0\n",
    "        self.episode_steps = 0\n",
    "        self.last_state = np.array([state])\n",
    "        self.last_action = self.policy(self.last_state)\n",
    "        return self.last_action\n",
    "\n",
    "    # Work Required: Yes. Fill in the action selection, replay-buffer update, \n",
    "    # weights update using optimize_network, and updating last_state and last_action (~5 lines).\n",
    "    def agent_step(self, reward, state):\n",
    "        \"\"\"A step taken by the agent.\n",
    "        Args:\n",
    "            reward (float): the reward received for taking the last action taken\n",
    "            state (Numpy array): the state from the\n",
    "                environment's step based, where the agent ended up after the\n",
    "                last step\n",
    "        Returns:\n",
    "            The action the agent is taking.\n",
    "        \"\"\"\n",
    "        \n",
    "        self.sum_rewards += reward\n",
    "        self.episode_steps += 1\n",
    "\n",
    "        # Make state an array of shape (1, state_dim) to add a batch dimension and\n",
    "        # to later match the get_action_values() and get_TD_update() functions\n",
    "        state = np.array([state])\n",
    "\n",
    "        # Select action\n",
    "        # your code here\n",
    "        action = self.policy(state)\n",
    "        \n",
    "        \n",
    "        # Append new experience to replay buffer\n",
    "        # Note: look at the replay_buffer append function for the order of arguments\n",
    "\n",
    "        # your code here\n",
    "        self.replay_buffer.append(self.last_state, self.last_action, reward, 0, state)       \n",
    "        \n",
    "        # Perform replay steps:\n",
    "        if self.replay_buffer.size() > self.replay_buffer.minibatch_size:\n",
    "            current_q = deepcopy(self.network)\n",
    "            for _ in range(self.num_replay):\n",
    "                \n",
    "                # Get sample experiences from the replay buffer\n",
    "                experiences = self.replay_buffer.sample()\n",
    "                \n",
    "                # Call optimize_network to update the weights of the network (~1 Line)\n",
    "                # your code here\n",
    "                optimize_network(experiences, self.discount, self.optimizer, self.network, current_q, self.tau)\n",
    "                \n",
    "                \n",
    "        # Update the last state and last action.\n",
    "        ### START CODE HERE (~2 Lines)\n",
    "        self.last_state = None\n",
    "        self.last_action = None\n",
    "        ### END CODE HERE\n",
    "        # your code here\n",
    "        self.last_state = state\n",
    "        self.last_action = action\n",
    "        \n",
    "        \n",
    "        return action\n",
    "\n",
    "    # Work Required: Yes. Fill in the replay-buffer update and\n",
    "    # update of the weights using optimize_network (~2 lines).\n",
    "    def agent_end(self, reward):\n",
    "        \"\"\"Run when the agent terminates.\n",
    "        Args:\n",
    "            reward (float): the reward the agent received for entering the\n",
    "                terminal state.\n",
    "        \"\"\"\n",
    "        self.sum_rewards += reward\n",
    "        self.episode_steps += 1\n",
    "        \n",
    "        # Set terminal state to an array of zeros\n",
    "        state = np.zeros_like(self.last_state)\n",
    "\n",
    "        # Append new experience to replay buffer\n",
    "        # Note: look at the replay_buffer append function for the order of arguments\n",
    "        \n",
    "        \n",
    "        # your code here\n",
    "        self.replay_buffer.append(self.last_state, self.last_action, reward, 1, state)      \n",
    "        \n",
    "        # Perform replay steps:\n",
    "        if self.replay_buffer.size() > self.replay_buffer.minibatch_size:\n",
    "            current_q = deepcopy(self.network)\n",
    "            for _ in range(self.num_replay):\n",
    "                \n",
    "                # Get sample experiences from the replay buffer\n",
    "                experiences = self.replay_buffer.sample()\n",
    "                \n",
    "                # Call optimize_network to update the weights of the network\n",
    "                # your code here\n",
    "                optimize_network(experiences, self.discount, self.optimizer, self.network, current_q, self.tau)\n",
    "                \n",
    "                \n",
    "        \n",
    "    def agent_message(self, message):\n",
    "        if message == \"get_sum_reward\":\n",
    "            return self.sum_rewards\n",
    "        else:\n",
    "            raise Exception(\"Unrecognized Message!\")"
   ]
  },
  {
   "cell_type": "markdown",
   "metadata": {
    "deletable": false,
    "editable": false,
    "nbgrader": {
     "cell_type": "markdown",
     "checksum": "3eb47bb8d21e025d56d1d89d4e4c746c",
     "grade": false,
     "grade_id": "cell-d5e188547a2be9d9",
     "locked": true,
     "schema_version": 3,
     "solution": false,
     "task": false
    }
   },
   "source": [
    "Run the following code to test your implementation of the `agent_step()` function:"
   ]
  },
  {
   "cell_type": "code",
   "execution_count": 18,
   "metadata": {
    "ExecuteTime": {
     "end_time": "2021-06-17T11:57:07.023771Z",
     "start_time": "2021-06-17T11:57:06.956726Z"
    },
    "deletable": false,
    "editable": false,
    "nbgrader": {
     "cell_type": "code",
     "checksum": "d351a79afa5ae8b5c72510a871a7328a",
     "grade": true,
     "grade_id": "cell-154adaa2d37b3d45",
     "locked": true,
     "points": 20,
     "schema_version": 3,
     "solution": false,
     "task": false
    }
   },
   "outputs": [
    {
     "name": "stderr",
     "output_type": "stream",
     "text": [
      "/home/explore/miniconda3/envs/coursera_rl/lib/python3.7/site-packages/numpy/core/_asarray.py:102: VisibleDeprecationWarning: Creating an ndarray from ragged nested sequences (which is a list-or-tuple of lists-or-tuples-or ndarrays with different lengths or shapes) is deprecated. If you meant to do this, you must specify 'dtype=object' when creating the ndarray.\n",
      "  return array(a, dtype, copy=False, order=order)\n"
     ]
    }
   ],
   "source": [
    "# -----------\n",
    "# Tested Cell\n",
    "# -----------\n",
    "# The contents of the cell will be tested by the autograder.\n",
    "# If they do not pass here, they will not pass there.\n",
    "\n",
    "agent_info = {\n",
    "             'network_config': {\n",
    "                 'state_dim': 8,\n",
    "                 'num_hidden_units': 256,\n",
    "                 'num_hidden_layers': 1,\n",
    "                 'num_actions': 4\n",
    "             },\n",
    "             'optimizer_config': {\n",
    "                 'step_size': 3e-5, \n",
    "                 'beta_m': 0.9, \n",
    "                 'beta_v': 0.999,\n",
    "                 'epsilon': 1e-8\n",
    "             },\n",
    "             'replay_buffer_size': 32,\n",
    "             'minibatch_sz': 32,\n",
    "             'num_replay_updates_per_step': 4,\n",
    "             'gamma': 0.99,\n",
    "             'tau': 1000.0,\n",
    "             'seed': 0}\n",
    "\n",
    "# Initialize agent\n",
    "agent = Agent()\n",
    "agent.agent_init(agent_info)\n",
    "\n",
    "# load agent network, optimizer, replay_buffer from the agent_input_1.npz file\n",
    "input_data = np.load(\"asserts/agent_input_1.npz\", allow_pickle=True)\n",
    "agent.network.set_weights(input_data[\"network_weights\"])\n",
    "agent.optimizer.m = input_data[\"optimizer_m\"]\n",
    "agent.optimizer.v = input_data[\"optimizer_v\"]\n",
    "agent.optimizer.beta_m_product = input_data[\"optimizer_beta_m_product\"]\n",
    "agent.optimizer.beta_v_product = input_data[\"optimizer_beta_v_product\"]\n",
    "agent.replay_buffer.rand_generator.seed(int(input_data[\"replay_buffer_seed\"]))\n",
    "for experience in input_data[\"replay_buffer\"]:\n",
    "    agent.replay_buffer.buffer.append(experience)\n",
    "\n",
    "# Perform agent_step multiple times\n",
    "last_state_array = input_data[\"last_state_array\"]\n",
    "last_action_array = input_data[\"last_action_array\"]\n",
    "state_array = input_data[\"state_array\"]\n",
    "reward_array = input_data[\"reward_array\"]\n",
    "\n",
    "for i in range(5):\n",
    "    agent.last_state = last_state_array[i]\n",
    "    agent.last_action = last_action_array[i]\n",
    "    state = state_array[i]\n",
    "    reward = reward_array[i]\n",
    "    \n",
    "    agent.agent_step(reward, state)\n",
    "    \n",
    "    # Load expected values for last_state, last_action, weights, and replay_buffer \n",
    "    output_data = np.load(\"asserts/agent_step_output_{}.npz\".format(i), allow_pickle=True)\n",
    "    answer_last_state = output_data[\"last_state\"]\n",
    "    answer_last_action = output_data[\"last_action\"]\n",
    "    answer_updated_weights = output_data[\"updated_weights\"]\n",
    "    answer_replay_buffer = output_data[\"replay_buffer\"]\n",
    "\n",
    "    # Asserts for last_state and last_action\n",
    "    assert(np.allclose(answer_last_state, agent.last_state))\n",
    "    assert(np.allclose(answer_last_action, agent.last_action))\n",
    "\n",
    "    # Asserts for replay_buffer \n",
    "    for i in range(answer_replay_buffer.shape[0]):\n",
    "        for j in range(answer_replay_buffer.shape[1]):\n",
    "            assert(np.allclose(np.asarray(agent.replay_buffer.buffer)[i, j], answer_replay_buffer[i, j]))\n",
    "\n",
    "    # Asserts for network.weights\n",
    "    assert(np.allclose(agent.network.weights[0][\"W\"], answer_updated_weights[0][\"W\"]))\n",
    "    assert(np.allclose(agent.network.weights[0][\"b\"], answer_updated_weights[0][\"b\"]))\n",
    "    assert(np.allclose(agent.network.weights[1][\"W\"], answer_updated_weights[1][\"W\"]))\n",
    "    assert(np.allclose(agent.network.weights[1][\"b\"], answer_updated_weights[1][\"b\"]))\n"
   ]
  },
  {
   "cell_type": "markdown",
   "metadata": {
    "deletable": false,
    "editable": false,
    "nbgrader": {
     "cell_type": "markdown",
     "checksum": "ab42a7c0695fa34f1aedc1f59d943d24",
     "grade": false,
     "grade_id": "cell-e28c640fdbff0646",
     "locked": true,
     "schema_version": 3,
     "solution": false,
     "task": false
    }
   },
   "source": [
    "Run the following code to test your implementation of the `agent_end()` function:"
   ]
  },
  {
   "cell_type": "code",
   "execution_count": 19,
   "metadata": {
    "ExecuteTime": {
     "end_time": "2021-06-17T11:57:07.089031Z",
     "start_time": "2021-06-17T11:57:07.024811Z"
    },
    "deletable": false,
    "editable": false,
    "nbgrader": {
     "cell_type": "code",
     "checksum": "9e669f8872d9ffb8231570fa2c8b177a",
     "grade": true,
     "grade_id": "cell-1c52a8c6d80f28c0",
     "locked": true,
     "points": 20,
     "schema_version": 3,
     "solution": false,
     "task": false
    }
   },
   "outputs": [],
   "source": [
    "# -----------\n",
    "# Tested Cell\n",
    "# -----------\n",
    "# The contents of the cell will be tested by the autograder.\n",
    "# If they do not pass here, they will not pass there.\n",
    "\n",
    "agent_info = {\n",
    "             'network_config': {\n",
    "                 'state_dim': 8,\n",
    "                 'num_hidden_units': 256,\n",
    "                 'num_hidden_layers': 1,\n",
    "                 'num_actions': 4\n",
    "             },\n",
    "             'optimizer_config': {\n",
    "                 'step_size': 3e-5, \n",
    "                 'beta_m': 0.9, \n",
    "                 'beta_v': 0.999,\n",
    "                 'epsilon': 1e-8\n",
    "             },\n",
    "             'replay_buffer_size': 32,\n",
    "             'minibatch_sz': 32,\n",
    "             'num_replay_updates_per_step': 4,\n",
    "             'gamma': 0.99,\n",
    "             'tau': 1000,\n",
    "             'seed': 0\n",
    "             }\n",
    "\n",
    "# Initialize agent\n",
    "agent = Agent()\n",
    "agent.agent_init(agent_info)\n",
    "\n",
    "# load agent network, optimizer, replay_buffer from the agent_input_1.npz file\n",
    "input_data = np.load(\"asserts/agent_input_1.npz\", allow_pickle=True)\n",
    "agent.network.set_weights(input_data[\"network_weights\"])\n",
    "agent.optimizer.m = input_data[\"optimizer_m\"]\n",
    "agent.optimizer.v = input_data[\"optimizer_v\"]\n",
    "agent.optimizer.beta_m_product = input_data[\"optimizer_beta_m_product\"]\n",
    "agent.optimizer.beta_v_product = input_data[\"optimizer_beta_v_product\"]\n",
    "agent.replay_buffer.rand_generator.seed(int(input_data[\"replay_buffer_seed\"]))\n",
    "for experience in input_data[\"replay_buffer\"]:\n",
    "    agent.replay_buffer.buffer.append(experience)\n",
    "\n",
    "# Perform agent_step multiple times\n",
    "last_state_array = input_data[\"last_state_array\"]\n",
    "last_action_array = input_data[\"last_action_array\"]\n",
    "state_array = input_data[\"state_array\"]\n",
    "reward_array = input_data[\"reward_array\"]\n",
    "\n",
    "for i in range(5):\n",
    "    agent.last_state = last_state_array[i]\n",
    "    agent.last_action = last_action_array[i]\n",
    "    reward = reward_array[i]\n",
    "    \n",
    "    agent.agent_end(reward)\n",
    "\n",
    "    # Load expected values for last_state, last_action, weights, and replay_buffer \n",
    "    output_data = np.load(\"asserts/agent_end_output_{}.npz\".format(i), allow_pickle=True)\n",
    "    answer_updated_weights = output_data[\"updated_weights\"]\n",
    "    answer_replay_buffer = output_data[\"replay_buffer\"]\n",
    "\n",
    "    # Asserts for replay_buffer \n",
    "    for i in range(answer_replay_buffer.shape[0]):\n",
    "        for j in range(answer_replay_buffer.shape[1]):\n",
    "            assert(np.allclose(np.asarray(agent.replay_buffer.buffer)[i, j], answer_replay_buffer[i, j]))\n",
    "\n",
    "    # Asserts for network.weights\n",
    "    assert(np.allclose(agent.network.weights[0][\"W\"], answer_updated_weights[0][\"W\"]))\n",
    "    assert(np.allclose(agent.network.weights[0][\"b\"], answer_updated_weights[0][\"b\"]))\n",
    "    assert(np.allclose(agent.network.weights[1][\"W\"], answer_updated_weights[1][\"W\"]))\n",
    "    assert(np.allclose(agent.network.weights[1][\"b\"], answer_updated_weights[1][\"b\"]))"
   ]
  },
  {
   "cell_type": "markdown",
   "metadata": {
    "deletable": false,
    "editable": false,
    "nbgrader": {
     "cell_type": "markdown",
     "checksum": "1ed9fca0352062809443beae983d9ea2",
     "grade": false,
     "grade_id": "cell-83130c3c2426b0c4",
     "locked": true,
     "schema_version": 3,
     "solution": false,
     "task": false
    }
   },
   "source": [
    "## Section 6: Run Experiment\n",
    "\n",
    "Now that you implemented the agent, we can use it to run an experiment on the Lunar Lander problem. We will plot the learning curve of the agent to visualize learning progress. To plot the learning curve, we use the sum of rewards in an episode as the performance measure. We have provided for you the experiment/plot code in the cell below which you can go ahead and run. Note that running the cell below has taken approximately 10 minutes in prior testing."
   ]
  },
  {
   "cell_type": "code",
   "execution_count": 20,
   "metadata": {
    "ExecuteTime": {
     "end_time": "2021-06-17T12:01:45.660054Z",
     "start_time": "2021-06-17T11:57:07.090136Z"
    },
    "deletable": false,
    "editable": false,
    "nbgrader": {
     "cell_type": "code",
     "checksum": "e192cd7f474ff57861f6f8a3e3ab188c",
     "grade": false,
     "grade_id": "cell-0defecc3f69370dc",
     "locked": true,
     "schema_version": 3,
     "solution": false,
     "task": false
    }
   },
   "outputs": [
    {
     "name": "stderr",
     "output_type": "stream",
     "text": [
      "100%|██████████| 300/300 [04:38<00:00,  1.08it/s]\n"
     ]
    }
   ],
   "source": [
    "# ---------------\n",
    "# Discussion Cell\n",
    "# ---------------\n",
    "\n",
    "def run_experiment(environment, agent, environment_parameters, agent_parameters, experiment_parameters):\n",
    "    \n",
    "    rl_glue = RLGlue(environment, agent)\n",
    "        \n",
    "    # save sum of reward at the end of each episode\n",
    "    agent_sum_reward = np.zeros((experiment_parameters[\"num_runs\"], \n",
    "                                 experiment_parameters[\"num_episodes\"]))\n",
    "\n",
    "    env_info = {}\n",
    "\n",
    "    agent_info = agent_parameters\n",
    "\n",
    "    # one agent setting\n",
    "    for run in range(1, experiment_parameters[\"num_runs\"]+1):\n",
    "        agent_info[\"seed\"] = run\n",
    "        agent_info[\"network_config\"][\"seed\"] = run\n",
    "        env_info[\"seed\"] = run\n",
    "\n",
    "        rl_glue.rl_init(agent_info, env_info)\n",
    "        \n",
    "        for episode in tqdm(range(1, experiment_parameters[\"num_episodes\"]+1)):\n",
    "            # run episode\n",
    "            rl_glue.rl_episode(experiment_parameters[\"timeout\"])\n",
    "            \n",
    "            episode_reward = rl_glue.rl_agent_message(\"get_sum_reward\")\n",
    "            agent_sum_reward[run - 1, episode - 1] = episode_reward\n",
    "    save_name = \"{}\".format(rl_glue.agent.name)\n",
    "    if not os.path.exists('results'):\n",
    "        os.makedirs('results')\n",
    "    np.save(\"results/sum_reward_{}\".format(save_name), agent_sum_reward)\n",
    "    shutil.make_archive('results', 'zip', 'results')\n",
    "\n",
    "# Run Experiment\n",
    "\n",
    "# Experiment parameters\n",
    "experiment_parameters = {\n",
    "    \"num_runs\" : 1,\n",
    "    \"num_episodes\" : 300,\n",
    "    # OpenAI Gym environments allow for a timestep limit timeout, causing episodes to end after \n",
    "    # some number of timesteps. Here we use the default of 500.\n",
    "    \"timeout\" : 500\n",
    "}\n",
    "\n",
    "# Environment parameters\n",
    "environment_parameters = {}\n",
    "\n",
    "current_env = LunarLanderEnvironment\n",
    "\n",
    "# Agent parameters\n",
    "agent_parameters = {\n",
    "    'network_config': {\n",
    "        'state_dim': 8,\n",
    "        'num_hidden_units': 256,\n",
    "        'num_actions': 4\n",
    "    },\n",
    "    'optimizer_config': {\n",
    "        'step_size': 1e-3,\n",
    "        'beta_m': 0.9, \n",
    "        'beta_v': 0.999,\n",
    "        'epsilon': 1e-8\n",
    "    },\n",
    "    'replay_buffer_size': 50000,\n",
    "    'minibatch_sz': 8,\n",
    "    'num_replay_updates_per_step': 4,\n",
    "    'gamma': 0.99,\n",
    "    'tau': 0.001\n",
    "}\n",
    "current_agent = Agent\n",
    "\n",
    "# run experiment\n",
    "run_experiment(current_env, current_agent, environment_parameters, agent_parameters, experiment_parameters)"
   ]
  },
  {
   "cell_type": "markdown",
   "metadata": {
    "deletable": false,
    "editable": false,
    "nbgrader": {
     "cell_type": "markdown",
     "checksum": "92ba982f59ab0ecd45333f5b73f0be60",
     "grade": false,
     "grade_id": "cell-b6321a32b126637e",
     "locked": true,
     "schema_version": 3,
     "solution": false,
     "task": false
    }
   },
   "source": [
    "Run the cell below to see the comparison between the agent that you implemented and a random agent for the one run and 300 episodes. Note that the `plot_result()` function smoothes the learning curve by applying a sliding window on the performance measure. "
   ]
  },
  {
   "cell_type": "code",
   "execution_count": 23,
   "metadata": {
    "ExecuteTime": {
     "end_time": "2021-06-17T12:01:50.849126Z",
     "start_time": "2021-06-17T12:01:50.684663Z"
    },
    "deletable": false,
    "editable": false,
    "nbgrader": {
     "cell_type": "code",
     "checksum": "3132510fde7c06020276a6c6f272eccd",
     "grade": false,
     "grade_id": "cell-337be142123eb81f",
     "locked": true,
     "schema_version": 3,
     "solution": false,
     "task": false
    }
   },
   "outputs": [
    {
     "data": {
      "image/png": "[encoded data removed]",
      "text/plain": [
       "<Figure size 576x432 with 1 Axes>"
      ]
     },
     "metadata": {
      "needs_background": "light"
     },
     "output_type": "display_data"
    }
   ],
   "source": [
    "plot_result([\"expected_sarsa_agent\", \"random_agent\"])"
   ]
  },
  {
   "cell_type": "markdown",
   "metadata": {
    "deletable": false,
    "editable": false,
    "nbgrader": {
     "cell_type": "markdown",
     "checksum": "db793e2c314fae05c3878657eab18363",
     "grade": false,
     "grade_id": "cell-978255cacf80e540",
     "locked": true,
     "schema_version": 3,
     "solution": false,
     "task": false
    }
   },
   "source": [
    "In the following cell you can visualize the performance of the agent with a correct implementation. As you can see, the agent initially crashes quite quickly (Episode 0). Then, the agent learns to avoid crashing by expending fuel and staying far above the ground. Finally however, it learns to land smoothly within the landing zone demarcated by the two flags (Episode 275)."
   ]
  },
  {
   "cell_type": "code",
   "execution_count": 24,
   "metadata": {
    "ExecuteTime": {
     "end_time": "2021-06-17T12:01:53.097530Z",
     "start_time": "2021-06-17T12:01:53.087627Z"
    },
    "deletable": false,
    "editable": false,
    "nbgrader": {
     "cell_type": "code",
     "checksum": "a9cc1faf04b1dd665484f8c1982470ac",
     "grade": false,
     "grade_id": "cell-9fa82bbbfd32220b",
     "locked": true,
     "schema_version": 3,
     "solution": false,
     "task": false
    }
   },
   "outputs": [
    {
     "data": {
      "text/html": [
       "<div align=\"middle\">\n",
       "<video width=\"80%\" controls>\n",
       "      <source src=\"ImplementYourAgent.mp4\" type=\"video/mp4\">\n",
       "</video></div>\n"
      ],
      "text/plain": [
       "<IPython.core.display.HTML object>"
      ]
     },
     "metadata": {},
     "output_type": "display_data"
    }
   ],
   "source": [
    "%%HTML\n",
    "<div align=\"middle\">\n",
    "<video width=\"80%\" controls>\n",
    "      <source src=\"ImplementYourAgent.mp4\" type=\"video/mp4\">\n",
    "</video></div>"
   ]
  },
  {
   "cell_type": "markdown",
   "metadata": {
    "deletable": false,
    "editable": false,
    "nbgrader": {
     "cell_type": "markdown",
     "checksum": "34eb37bcd53120dc16b74cf95fe283d4",
     "grade": false,
     "grade_id": "cell-e5423f3a7fee6813",
     "locked": true,
     "schema_version": 3,
     "solution": false,
     "task": false
    }
   },
   "source": [
    "In the learning curve above, you can see that sum of reward over episode has quite a high-variance at the beginning. However, the performance seems to be improving. The experiment that you ran was for 300 episodes and 1 run. To understand how the agent performs in the long run, we provide below the learning curve for the agent trained for 3000 episodes with performance averaged over 30 runs.\n",
    "<img src=\"3000_episodes.png\" alt=\"Drawing\" style=\"width: 500px;\"/>\n",
    "You can see that the agent learns a reasonably good policy within 3000 episodes, gaining sum of reward bigger than 200. Note that because of the high-variance in the agent performance, we also smoothed the learning curve. "
   ]
  },
  {
   "cell_type": "markdown",
   "metadata": {
    "deletable": false,
    "editable": false,
    "nbgrader": {
     "cell_type": "markdown",
     "checksum": "2949ffe4c0d604eacac2fa59caa1b1ae",
     "grade": false,
     "grade_id": "cell-d9aa9305a578583d",
     "locked": true,
     "schema_version": 3,
     "solution": false,
     "task": false
    }
   },
   "source": [
    "### Wrapping up! \n",
    "\n",
    "You have successfully implemented Course 4 Programming Assignment 2.\n",
    "\n",
    "You have implemented an **Expected Sarsa agent with a neural network and the Adam optimizer** and used it for solving the Lunar Lander problem! You implemented different components of the agent including:\n",
    "\n",
    "- a neural network for function approximation,\n",
    "- the Adam algorithm for optimizing the weights of the neural network,\n",
    "- a Softmax policy,\n",
    "- the replay steps for updating the action-value function using the experiences sampled from a replay buffer\n",
    "\n",
    "You tested the agent for a single parameter setting. In the next assignment, you will perform a parameter study on the step-size parameter to gain insight about the effect of step-size on the performance of your agent."
   ]
  },
  {
   "cell_type": "markdown",
   "metadata": {
    "deletable": false,
    "editable": false,
    "nbgrader": {
     "cell_type": "markdown",
     "checksum": "045bd4285983c9a9916634a4d9609439",
     "grade": false,
     "grade_id": "cell-cb6d17d0ac6c92e1",
     "locked": true,
     "schema_version": 3,
     "solution": false,
     "task": false
    }
   },
   "source": [
    "Note: Apart from using the `Submit` button in the notebook, you have to submit an additional zip file containing the 'npy' files that were generated from running the experiment cells. In order to do so:\n",
    "1. Generate the zip file by running the experiment cells in the notebook. On the top of the notebook, navigate to `File->Open` to open the directory view of this assignment. Select the checkbox next to `results.zip` and click on `Download.` Alternatively, you can download the results folder and run `zip -jr results.zip results/` (The flag 'j' is required by the grader!).\n",
    "2. Go to the \"My submission\" tab on the programming assignment and click on \"+ Create submission\".\n",
    "3. Click on \"PA2 Data-file Grader\" and upload your results.zip.\n",
    "\n",
    "***These account for 25% of the marks, so don't forget to do so!***"
   ]
  },
  {
   "cell_type": "code",
   "execution_count": null,
   "metadata": {},
   "outputs": [],
   "source": []
  }
 ],
 "metadata": {
  "coursera": {
   "course_slug": "complete-reinforcement-learning-system",
   "graded_item_id": "8dMlx",
   "launcher_item_id": "4O5gG"
  },
  "kernelspec": {
   "display_name": "Python 3",
   "language": "python",
   "name": "python3"
  },
  "language_info": {
   "codemirror_mode": {
    "name": "ipython",
    "version": 3
   },
   "file_extension": ".py",
   "mimetype": "text/x-python",
   "name": "python",
   "nbconvert_exporter": "python",
   "pygments_lexer": "ipython3",
   "version": "3.7.10"
  },
  "toc": {
   "base_numbering": 1,
   "nav_menu": {},
   "number_sections": true,
   "sideBar": true,
   "skip_h1_title": false,
   "title_cell": "Table of Contents",
   "title_sidebar": "Contents",
   "toc_cell": false,
   "toc_position": {
    "height": "calc(100% - 180px)",
    "left": "10px",
    "top": "150px",
    "width": "314px"
   },
   "toc_section_display": true,
   "toc_window_display": true
  }
 },
 "nbformat": 4,
 "nbformat_minor": 2
}
